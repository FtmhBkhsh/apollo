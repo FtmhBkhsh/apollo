{
 "cells": [
  {
   "cell_type": "code",
   "execution_count": 109,
   "metadata": {},
   "outputs": [],
   "source": [
    "import networkx as nx\n",
    "import networkx.algorithms.isomorphism as iso\n",
    "import pickle"
   ]
  },
  {
   "cell_type": "code",
   "execution_count": 110,
   "metadata": {},
   "outputs": [],
   "source": [
    "# function to return key for any value \n",
    "def get_key(val,l): \n",
    "    for key, value in l.items(): \n",
    "         if val == value: \n",
    "             return key \n",
    "  \n",
    "    return \"key doesn't exist\""
   ]
  },
  {
   "cell_type": "code",
   "execution_count": 111,
   "metadata": {},
   "outputs": [],
   "source": [
    "def mergeList(subList,pat):\n",
    "    result=[]\n",
    "    while(len(subList)>0):\n",
    "        res1 = []\n",
    "        res1.append(subList[0])\n",
    "        for j in range(1,len(subList)):\n",
    "            flag = True\n",
    "            for k in pat:\n",
    "                if(get_key(k,subList[0])!=get_key(k,subList[j])):\n",
    "                    flag = False\n",
    "            if(flag==True):\n",
    "                res1.append(subList[j])\n",
    "        result.append(res1)\n",
    "        l3 = [x for x in subList if x not in res1]\n",
    "        subList = l3\n",
    "    return result\n",
    "            \n",
    "    \n",
    "    \n",
    "#     g2_edges_list = G2.edges.data()\n",
    "#     for edge in g2_edges_list :\n",
    "#         if (G1.get_edge_data(edge[0],edge[1]) != None ):\n",
    "#             if (G1[edge[0]][edge[1]]['type'] != edge[2]['type']):\n",
    "#                 G1[edge[0]][edge[1]]['type'] = G1[edge[0]][edge[1]]['type'] + '+' + edge[2]['type']\n",
    "#         else :\n",
    "#             G1.add_edge(edge[0],edge[1],type = edge[2]['type'])  \n",
    "#     return G1"
   ]
  },
  {
   "cell_type": "code",
   "execution_count": 112,
   "metadata": {},
   "outputs": [
    {
     "name": "stdout",
     "output_type": "stream",
     "text": [
      "['PiecewiseJerkSpeedProblem', 'PiecewiseJerkProblem', 'PiecewiseJerkPathProblem', 'QuarticPolynomialCurve1d', 'PolynomialCurve1d', 'Curve1d', 'CubicPolynomialCurve1d', 'QuinticPolynomialCurve1d', 'ThreadSafeIndexedObstacles', 'ThreadSafeIndexedList', 'IndexedList', 'AutotuningSpeedFeatureBuilder', 'AutotuningFeatureBuilder', 'StandingStillTrajectory1d', 'OsqpSpline1dSolver', 'Spline1dSolver', 'OnLanePlanning', 'PlanningBase', 'PiecewiseJerkSpeedNonlinearOptimizer', 'SpeedOptimizer', 'DiscretePointsReferenceLineSmoother', 'ReferenceLineSmoother', 'LateralOSQPOptimizer', 'LateralQPOptimizer', 'QpSplineReferenceLineSmoother', 'OpenSpaceTrajectoryProvider', 'TrajectoryOptimizer', 'LatticePlanner', 'PlannerWithReferenceLine', 'NaviPlanner', 'PublicRoadPlanner', 'RTKReplayPlanner', 'Planner', 'TrafficLight', 'TrafficRule', 'PathBoundsDecider', 'Decider', 'PathLaneBorrowDecider', 'RuleBasedStopDecider', 'PathAssessmentDecider', 'PathReuseDecider', 'OpenSpacePreStopDecider', 'CreepDecider', 'OpenSpaceRoiDecider', 'OpenSpaceFallbackDecider', 'Task', 'STBoundsDecider', 'SpeedBoundsDecider', 'LaneChangeDecider', 'QuinticSpiralPathWithDerivation', 'PiecewiseJerkPathOptimizer', 'PathOptimizer', 'DistanceApproachIPOPTFixedDualInterface', 'DistanceApproachInterface', 'DistanceApproachIPOPTInterface', 'DistanceApproachIPOPTRelaxEndInterface', 'DistanceApproachIPOPTRelaxEndSlackInterface', 'DistanceApproachIPOPTCUDAInterface', 'DistanceApproachIPOPTFixedTsInterface', 'FrameHistory', 'IndexedQueue', 'PiecewiseJerkTrajectory1d', 'BacksideVehicle', 'QuinticSpiralPath', 'ReferenceLineEnd', 'NaviPlanning', 'PathDecider', 'PiecewiseQuinticSpiralPath', 'SpeedDecider', 'SpiralReferenceLineSmoother', 'RssDecider', 'ConstantDecelerationTrajectory1d', 'ActiveSetSpline1dSolver', 'NaviPathDecider', 'NaviTask', 'NaviObstacleDecider', 'NaviSpeedDecider', 'YieldSign', 'PublishableTrajectory', 'DiscretizedTrajectory', 'KeepClear', 'OpenSpaceTrajectoryPartition', 'StopSign', 'Rerouting', 'AutotuningSpeedMLPModel', 'AutotuningBaseModel', 'PiecewiseTrajectory1d', 'IndexedObstacles', 'PiecewiseJerkSpeedOptimizer', 'PathTimeHeuristicOptimizer', 'LatticeTrajectory1d', 'Destination', 'Crosswalk', 'ConstantJerkTrajectory1d', 'PiecewiseAccelerationTrajectory1d', 'RoadGraphMessage', 'TrajectoryCost', 'ReferenceLine', 'SpeedData', 'VehicleConfig', 'OpenSpaceInfo', 'TrajGearPair', 'Smoother', 'OpenSpaceTrajectoryOptimizer', 'SpeedLimit', 'Spline1dSeg', 'PolynomialXd', 'Spline2dSeg', 'AutotuningRawFeatureGenerator', 'ReferenceLineInfo', 'Frame', 'OpenSpaceTrajectoryThreadData', 'STObstaclesProcessor', 'History', 'HistoryStatus', 'SpeedLimitDecider', 'DecisionData', 'PathData', 'STBoundaryMapper', 'DpRoadGraph', 'StGraphPoint', 'STPoint', 'GriddedPathTimeGraph', 'StGraphData', 'DpRoadGraphNode', 'ComparableCost', 'WaypointSampler', 'PlanningTestBase', 'LocalView', 'PiecewiseJerkSpeedNonlinearIpoptInterface', 'STBoundary', 'SamplePoint', 'Spline1dKernel', 'PathDecision', 'Spline1d', 'FrenetFramePath', 'PiecewiseLinearGenerator', 'PiecewiseLinearConstraint', 'PathTimeGraph', 'DpStCost', 'BackupTrajectoryGenerator', 'Trajectory1dGenerator', 'DiscretizedPath', 'CollisionChecker', 'Spline2dSolver', 'Spline2dKernel', 'ReferenceLineProvider', 'STGuideLine', 'EndConditionSampler', 'FeasibleRegion', 'NaviSpeedTsGraph', 'Spline1dConstraint', 'PiecewiseLinearKernel', 'Spline2d', 'rss_world_model_struct', 'Scenario', 'Obstacle', 'BoundaryType', 'STDrivingLimits', 'Spline2dConstraint', 'AffineConstraint', 'GearSwitchStates']\n",
      "[('PiecewiseJerkSpeedProblem', 'PiecewiseJerkProblem', {'type': 'Generalization'}), ('PiecewiseJerkPathProblem', 'PiecewiseJerkProblem', {'type': 'Generalization'}), ('QuarticPolynomialCurve1d', 'PolynomialCurve1d', {'type': 'Generalization'}), ('PolynomialCurve1d', 'Curve1d', {'type': 'Generalization'}), ('CubicPolynomialCurve1d', 'PolynomialCurve1d', {'type': 'Generalization'}), ('QuinticPolynomialCurve1d', 'PolynomialCurve1d', {'type': 'Generalization'}), ('ThreadSafeIndexedObstacles', 'ThreadSafeIndexedList', {'type': 'Generalization'}), ('ThreadSafeIndexedList', 'IndexedList', {'type': 'Generalization'}), ('AutotuningSpeedFeatureBuilder', 'AutotuningFeatureBuilder', {'type': 'Generalization'}), ('StandingStillTrajectory1d', 'Curve1d', {'type': 'Generalization'}), ('OsqpSpline1dSolver', 'Spline1dSolver', {'type': 'Generalization'}), ('Spline1dSolver', 'Spline1dKernel', {'type': 'Association'}), ('Spline1dSolver', 'Spline1d', {'type': 'Association'}), ('Spline1dSolver', 'Spline1dConstraint', {'type': 'Association'}), ('OnLanePlanning', 'PlanningBase', {'type': 'Generalization'}), ('OnLanePlanning', 'Smoother', {'type': 'Association'}), ('PlanningBase', 'LocalView', {'type': 'Association'}), ('PiecewiseJerkSpeedNonlinearOptimizer', 'SpeedOptimizer', {'type': 'Generalization'}), ('PiecewiseJerkSpeedNonlinearOptimizer', 'PiecewiseJerkTrajectory1d', {'type': 'Association'}), ('PiecewiseJerkSpeedNonlinearOptimizer', 'SpeedLimit', {'type': 'Association'}), ('PiecewiseJerkSpeedNonlinearOptimizer', 'SpeedData', {'type': 'Association'}), ('SpeedOptimizer', 'Task', {'type': 'Generalization'}), ('DiscretePointsReferenceLineSmoother', 'ReferenceLineSmoother', {'type': 'Generalization'}), ('LateralOSQPOptimizer', 'LateralQPOptimizer', {'type': 'Generalization'}), ('QpSplineReferenceLineSmoother', 'ReferenceLineSmoother', {'type': 'Generalization'}), ('OpenSpaceTrajectoryProvider', 'TrajectoryOptimizer', {'type': 'Generalization'}), ('OpenSpaceTrajectoryProvider', 'OpenSpaceTrajectoryThreadData', {'type': 'Association'}), ('TrajectoryOptimizer', 'Task', {'type': 'Generalization'}), ('LatticePlanner', 'PlannerWithReferenceLine', {'type': 'Generalization'}), ('PlannerWithReferenceLine', 'Planner', {'type': 'Generalization'}), ('NaviPlanner', 'PlannerWithReferenceLine', {'type': 'Generalization'}), ('PublicRoadPlanner', 'PlannerWithReferenceLine', {'type': 'Generalization'}), ('RTKReplayPlanner', 'PlannerWithReferenceLine', {'type': 'Generalization'}), ('Planner', 'Scenario', {'type': 'Association'}), ('TrafficLight', 'TrafficRule', {'type': 'Generalization'}), ('PathBoundsDecider', 'Decider', {'type': 'Generalization'}), ('Decider', 'Task', {'type': 'Generalization'}), ('PathLaneBorrowDecider', 'Decider', {'type': 'Generalization'}), ('RuleBasedStopDecider', 'Decider', {'type': 'Generalization'}), ('PathAssessmentDecider', 'Decider', {'type': 'Generalization'}), ('PathReuseDecider', 'Decider', {'type': 'Generalization'}), ('PathReuseDecider', 'History', {'type': 'Association'}), ('OpenSpacePreStopDecider', 'Decider', {'type': 'Generalization'}), ('CreepDecider', 'Decider', {'type': 'Generalization'}), ('OpenSpaceRoiDecider', 'Decider', {'type': 'Generalization'}), ('OpenSpaceRoiDecider', 'ThreadSafeIndexedObstacles', {'type': 'Association'}), ('OpenSpaceFallbackDecider', 'Decider', {'type': 'Generalization'}), ('Task', 'Frame', {'type': 'Association'}), ('Task', 'ReferenceLineInfo', {'type': 'Association'}), ('STBoundsDecider', 'Decider', {'type': 'Generalization'}), ('STBoundsDecider', 'STObstaclesProcessor', {'type': 'Association'}), ('STBoundsDecider', 'STGuideLine', {'type': 'Association'}), ('STBoundsDecider', 'STDrivingLimits', {'type': 'Association'}), ('SpeedBoundsDecider', 'Decider', {'type': 'Generalization'}), ('LaneChangeDecider', 'Decider', {'type': 'Generalization'}), ('QuinticSpiralPathWithDerivation', 'QuinticPolynomialCurve1d', {'type': 'Generalization'}), ('PiecewiseJerkPathOptimizer', 'PathOptimizer', {'type': 'Generalization'}), ('PathOptimizer', 'Task', {'type': 'Generalization'}), ('DistanceApproachIPOPTFixedDualInterface', 'DistanceApproachInterface', {'type': 'Generalization'}), ('DistanceApproachIPOPTInterface', 'DistanceApproachInterface', {'type': 'Generalization'}), ('DistanceApproachIPOPTRelaxEndInterface', 'DistanceApproachInterface', {'type': 'Generalization'}), ('DistanceApproachIPOPTRelaxEndSlackInterface', 'DistanceApproachInterface', {'type': 'Generalization'}), ('DistanceApproachIPOPTCUDAInterface', 'DistanceApproachInterface', {'type': 'Generalization'}), ('DistanceApproachIPOPTFixedTsInterface', 'DistanceApproachInterface', {'type': 'Generalization'}), ('FrameHistory', 'IndexedQueue', {'type': 'Generalization'}), ('PiecewiseJerkTrajectory1d', 'Curve1d', {'type': 'Generalization'}), ('BacksideVehicle', 'TrafficRule', {'type': 'Generalization'}), ('QuinticSpiralPath', 'QuinticPolynomialCurve1d', {'type': 'Generalization'}), ('ReferenceLineEnd', 'TrafficRule', {'type': 'Generalization'}), ('NaviPlanning', 'PlanningBase', {'type': 'Generalization'}), ('NaviPlanning', 'VehicleConfig', {'type': 'Association'}), ('PathDecider', 'Task', {'type': 'Generalization'}), ('PiecewiseQuinticSpiralPath', 'Curve1d', {'type': 'Generalization'}), ('SpeedDecider', 'Task', {'type': 'Generalization'}), ('SpeedDecider', 'ReferenceLine', {'type': 'Association'}), ('SpiralReferenceLineSmoother', 'ReferenceLineSmoother', {'type': 'Generalization'}), ('RssDecider', 'Task', {'type': 'Generalization'}), ('RssDecider', 'rss_world_model_struct', {'type': 'Association'}), ('ConstantDecelerationTrajectory1d', 'Curve1d', {'type': 'Generalization'}), ('ActiveSetSpline1dSolver', 'Spline1dSolver', {'type': 'Generalization'}), ('NaviPathDecider', 'NaviTask', {'type': 'Generalization'}), ('NaviPathDecider', 'NaviObstacleDecider', {'type': 'Association'}), ('NaviTask', 'Frame', {'type': 'Association'}), ('NaviTask', 'ReferenceLineInfo', {'type': 'Association'}), ('NaviObstacleDecider', 'NaviTask', {'type': 'Generalization'}), ('NaviSpeedDecider', 'NaviTask', {'type': 'Generalization'}), ('NaviSpeedDecider', 'NaviSpeedTsGraph', {'type': 'Association'}), ('NaviSpeedDecider', 'NaviObstacleDecider', {'type': 'Association'}), ('YieldSign', 'TrafficRule', {'type': 'Generalization'}), ('PublishableTrajectory', 'DiscretizedTrajectory', {'type': 'Generalization'}), ('KeepClear', 'TrafficRule', {'type': 'Generalization'}), ('OpenSpaceTrajectoryPartition', 'TrajectoryOptimizer', {'type': 'Generalization'}), ('StopSign', 'TrafficRule', {'type': 'Generalization'}), ('Rerouting', 'TrafficRule', {'type': 'Generalization'}), ('Rerouting', 'Frame', {'type': 'Association'}), ('Rerouting', 'ReferenceLineInfo', {'type': 'Association'}), ('AutotuningSpeedMLPModel', 'AutotuningBaseModel', {'type': 'Generalization'}), ('PiecewiseTrajectory1d', 'Curve1d', {'type': 'Generalization'}), ('IndexedObstacles', 'IndexedList', {'type': 'Generalization'}), ('PiecewiseJerkSpeedOptimizer', 'SpeedOptimizer', {'type': 'Generalization'}), ('PathTimeHeuristicOptimizer', 'SpeedOptimizer', {'type': 'Generalization'}), ('LatticeTrajectory1d', 'Curve1d', {'type': 'Generalization'}), ('Destination', 'TrafficRule', {'type': 'Generalization'}), ('Crosswalk', 'TrafficRule', {'type': 'Generalization'}), ('ConstantJerkTrajectory1d', 'Curve1d', {'type': 'Generalization'}), ('PiecewiseAccelerationTrajectory1d', 'Curve1d', {'type': 'Generalization'}), ('RoadGraphMessage', 'TrajectoryCost', {'type': 'Association'}), ('RoadGraphMessage', 'DpRoadGraphNode', {'type': 'Association'}), ('TrajectoryCost', 'ReferenceLine', {'type': 'Association'}), ('TrajectoryCost', 'SpeedData', {'type': 'Association'}), ('OpenSpaceInfo', 'TrajGearPair', {'type': 'Association'}), ('OpenSpaceInfo', 'DiscretizedTrajectory', {'type': 'Association'}), ('OpenSpaceInfo', 'GearSwitchStates', {'type': 'Association'}), ('OpenSpaceTrajectoryOptimizer', 'DiscretizedTrajectory', {'type': 'Association'}), ('Spline1dSeg', 'PolynomialXd', {'type': 'Association'}), ('Spline2dSeg', 'PolynomialXd', {'type': 'Association'}), ('AutotuningRawFeatureGenerator', 'ReferenceLineInfo', {'type': 'Association'}), ('AutotuningRawFeatureGenerator', 'SpeedLimit', {'type': 'Association'}), ('AutotuningRawFeatureGenerator', 'Frame', {'type': 'Association'}), ('ReferenceLineInfo', 'ReferenceLine', {'type': 'Association'}), ('ReferenceLineInfo', 'StGraphData', {'type': 'Association'}), ('ReferenceLineInfo', 'SpeedData', {'type': 'Association'}), ('ReferenceLineInfo', 'PathData', {'type': 'Association'}), ('ReferenceLineInfo', 'DiscretizedTrajectory', {'type': 'Association'}), ('ReferenceLineInfo', 'PathDecision', {'type': 'Association'}), ('ReferenceLineInfo', 'Obstacle', {'type': 'Association'}), ('Frame', 'LocalView', {'type': 'Association'}), ('Frame', 'OpenSpaceInfo', {'type': 'Association'}), ('Frame', 'DiscretizedPath', {'type': 'Association'}), ('Frame', 'ReferenceLineProvider', {'type': 'Association'}), ('Frame', 'ThreadSafeIndexedObstacles', {'type': 'Association'}), ('Frame', 'ReferenceLineInfo', {'type': 'Association'}), ('STObstaclesProcessor', 'History', {'type': 'Association'}), ('STObstaclesProcessor', 'PathDecision', {'type': 'Association'}), ('STObstaclesProcessor', 'PathData', {'type': 'Association'}), ('History', 'HistoryStatus', {'type': 'Association'}), ('SpeedLimitDecider', 'ReferenceLine', {'type': 'Association'}), ('SpeedLimitDecider', 'PathData', {'type': 'Association'}), ('DecisionData', 'ReferenceLine', {'type': 'Association'}), ('PathData', 'ReferenceLine', {'type': 'Association'}), ('PathData', 'FrenetFramePath', {'type': 'Association'}), ('PathData', 'DiscretizedPath', {'type': 'Association'}), ('STBoundaryMapper', 'ReferenceLine', {'type': 'Association'}), ('STBoundaryMapper', 'PathData', {'type': 'Association'}), ('DpRoadGraph', 'ReferenceLine', {'type': 'Association'}), ('DpRoadGraph', 'SpeedData', {'type': 'Association'}), ('DpRoadGraph', 'ReferenceLineInfo', {'type': 'Association'}), ('StGraphPoint', 'STPoint', {'type': 'Association'}), ('GriddedPathTimeGraph', 'StGraphData', {'type': 'Association'}), ('GriddedPathTimeGraph', 'DpStCost', {'type': 'Association'}), ('StGraphData', 'SpeedLimit', {'type': 'Association'}), ('DpRoadGraphNode', 'ComparableCost', {'type': 'Association'}), ('DpRoadGraphNode', 'QuinticPolynomialCurve1d', {'type': 'Association'}), ('WaypointSampler', 'ReferenceLineInfo', {'type': 'Association'}), ('PlanningTestBase', 'LocalView', {'type': 'Association'}), ('PiecewiseJerkSpeedNonlinearIpoptInterface', 'PiecewiseJerkTrajectory1d', {'type': 'Association'}), ('STBoundary', 'STPoint', {'type': 'Association'}), ('STBoundary', 'BoundaryType', {'type': 'Association'}), ('SamplePoint', 'STPoint', {'type': 'Association'}), ('PathDecision', 'IndexedList', {'type': 'Association'}), ('PiecewiseLinearGenerator', 'PiecewiseLinearConstraint', {'type': 'Association'}), ('PiecewiseLinearGenerator', 'PiecewiseLinearKernel', {'type': 'Association'}), ('PathTimeGraph', 'ReferenceLineInfo', {'type': 'Association'}), ('BackupTrajectoryGenerator', 'Trajectory1dGenerator', {'type': 'Association'}), ('Trajectory1dGenerator', 'EndConditionSampler', {'type': 'Association'}), ('CollisionChecker', 'ReferenceLineInfo', {'type': 'Association'}), ('Spline2dSolver', 'Spline2dKernel', {'type': 'Association'}), ('Spline2dSolver', 'Spline2d', {'type': 'Association'}), ('Spline2dSolver', 'Spline2dConstraint', {'type': 'Association'}), ('EndConditionSampler', 'FeasibleRegion', {'type': 'Association'}), ('Spline1dConstraint', 'AffineConstraint', {'type': 'Association'}), ('Obstacle', 'STBoundary', {'type': 'Association'}), ('Spline2dConstraint', 'AffineConstraint', {'type': 'Association'})]\n"
     ]
    }
   ],
   "source": [
    "# main (code) graph\n",
    "G = nx.DiGraph()\n",
    "G = pickle.load( open( \"../planning_graph.p\", \"rb\" ) )\n",
    "print(G.nodes)\n",
    "print(G.edges.data())"
   ]
  },
  {
   "cell_type": "code",
   "execution_count": 113,
   "metadata": {},
   "outputs": [],
   "source": [
    "G1 = nx.DiGraph()\n",
    "# # Strategy\n",
    "# G1.add_edge(1,2,type='Association')\n",
    "# G1.add_edge(3,2,type='Generalization')\n",
    "\n",
    "# # Adapter\n",
    "# G1.add_edge(1,2,type='Generalization')\n",
    "# G1.add_edge(1,3,type='Association')\n",
    "\n",
    "# Bridge\n",
    "G1.add_edge(1,2,type='Association')\n",
    "G1.add_edge(3,2,type='Generalization')\n"
   ]
  },
  {
   "cell_type": "code",
   "execution_count": 114,
   "metadata": {},
   "outputs": [
    {
     "data": {
      "text/plain": [
       "True"
      ]
     },
     "execution_count": 114,
     "metadata": {},
     "output_type": "execute_result"
    }
   ],
   "source": [
    "import networkx.algorithms.isomorphism as iso\n",
    "nm = iso.categorical_edge_match('type', 'xyz')\n",
    "DiGM = iso.DiGraphMatcher(G,G1,edge_match=nm)\n",
    "DiGM.subgraph_is_isomorphic()"
   ]
  },
  {
   "cell_type": "code",
   "execution_count": 115,
   "metadata": {},
   "outputs": [
    {
     "name": "stdout",
     "output_type": "stream",
     "text": [
      "[{'DpRoadGraphNode': 1, 'QuinticPolynomialCurve1d': 2, 'QuinticSpiralPath': 3}, {'DpRoadGraphNode': 1, 'QuinticPolynomialCurve1d': 2, 'QuinticSpiralPathWithDerivation': 3}, {'OpenSpaceTrajectoryOptimizer': 1, 'DiscretizedTrajectory': 2, 'PublishableTrajectory': 3}, {'OpenSpaceInfo': 1, 'DiscretizedTrajectory': 2, 'PublishableTrajectory': 3}, {'PathDecision': 1, 'IndexedList': 2, 'IndexedObstacles': 3}, {'PathDecision': 1, 'IndexedList': 2, 'ThreadSafeIndexedList': 3}, {'ReferenceLineInfo': 1, 'DiscretizedTrajectory': 2, 'PublishableTrajectory': 3}]\n",
      "[[{'DpRoadGraphNode': 1, 'QuinticPolynomialCurve1d': 2, 'QuinticSpiralPath': 3}, {'DpRoadGraphNode': 1, 'QuinticPolynomialCurve1d': 2, 'QuinticSpiralPathWithDerivation': 3}], [{'OpenSpaceTrajectoryOptimizer': 1, 'DiscretizedTrajectory': 2, 'PublishableTrajectory': 3}], [{'OpenSpaceInfo': 1, 'DiscretizedTrajectory': 2, 'PublishableTrajectory': 3}], [{'PathDecision': 1, 'IndexedList': 2, 'IndexedObstacles': 3}, {'PathDecision': 1, 'IndexedList': 2, 'ThreadSafeIndexedList': 3}], [{'ReferenceLineInfo': 1, 'DiscretizedTrajectory': 2, 'PublishableTrajectory': 3}]]\n"
     ]
    }
   ],
   "source": [
    "subgraphs = [graph for graph in DiGM.subgraph_isomorphisms_iter()]\n",
    "print (subgraphs)\n",
    "\n",
    "# Strategy\n",
    "# print(mergeList(subgraphs,{1,2}))\n",
    "\n",
    "# Adapter\n",
    "# print(mergeList(subgraphs,{1,2,3}))\n",
    "\n",
    "# Bridge\n",
    "print(mergeList(subgraphs,{1,2}))"
   ]
  },
  {
   "cell_type": "code",
   "execution_count": null,
   "metadata": {},
   "outputs": [],
   "source": []
  }
 ],
 "metadata": {
  "kernelspec": {
   "display_name": "Python 3",
   "language": "python",
   "name": "python3"
  },
  "language_info": {
   "codemirror_mode": {
    "name": "ipython",
    "version": 3
   },
   "file_extension": ".py",
   "mimetype": "text/x-python",
   "name": "python",
   "nbconvert_exporter": "python",
   "pygments_lexer": "ipython3",
   "version": "3.7.6"
  }
 },
 "nbformat": 4,
 "nbformat_minor": 4
}
