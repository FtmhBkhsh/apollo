{
 "cells": [
  {
   "cell_type": "markdown",
   "metadata": {},
   "source": [
    "### Imports"
   ]
  },
  {
   "cell_type": "code",
   "execution_count": 1,
   "metadata": {},
   "outputs": [],
   "source": [
    "import networkx as nx\n",
    "import networkx.algorithms.isomorphism as iso\n",
    "import pickle\n",
    "from functools import reduce"
   ]
  },
  {
   "cell_type": "markdown",
   "metadata": {},
   "source": [
    "### Graphs initialization"
   ]
  },
  {
   "cell_type": "code",
   "execution_count": 2,
   "metadata": {},
   "outputs": [],
   "source": [
    "# main (code) graph\n",
    "ctrl = pickle.load(open('../Data/ctrl_graph.p','rb'))\n",
    "planning = pickle.load(open('../Data/planning_graph.p','rb'))"
   ]
  },
  {
   "cell_type": "markdown",
   "metadata": {},
   "source": [
    "### 1. Change this\n",
    "# ↓↓↓   ↓↓↓"
   ]
  },
  {
   "cell_type": "code",
   "execution_count": 3,
   "metadata": {},
   "outputs": [],
   "source": [
    "# Strategy patten\n",
    "pattern_name='strategy'\n",
    "pattern = nx.DiGraph()\n",
    "pattern.add_edge('Context','Strategy',type='Association')\n",
    "pattern.add_edge('ConcreteStrategies','Strategy',type='Generalization')"
   ]
  },
  {
   "cell_type": "markdown",
   "metadata": {},
   "source": [
    "### Graphs visualizations [Optional]"
   ]
  },
  {
   "cell_type": "code",
   "execution_count": null,
   "metadata": {},
   "outputs": [],
   "source": [
    "# ctrl graph\n",
    "pos=nx.spring_layout(ctrl)\n",
    "nx.draw_networkx_edge_labels(ctrl,pos)\n",
    "nx.draw(ctrl,pos,with_labels=True)"
   ]
  },
  {
   "cell_type": "code",
   "execution_count": null,
   "metadata": {},
   "outputs": [],
   "source": [
    "# planning graph\n",
    "pos=nx.spring_layout(planning)\n",
    "nx.draw_networkx_edge_labels(planning,pos)\n",
    "nx.draw(planning,pos,with_labels=True)"
   ]
  },
  {
   "cell_type": "code",
   "execution_count": null,
   "metadata": {},
   "outputs": [],
   "source": [
    "# pattern graph\n",
    "pos=nx.spring_layout(pattern)\n",
    "nx.draw_networkx_edge_labels(pattern,pos)\n",
    "nx.draw(pattern,pos,with_labels=True)"
   ]
  },
  {
   "cell_type": "markdown",
   "metadata": {},
   "source": [
    "### Finding matched patterns"
   ]
  },
  {
   "cell_type": "code",
   "execution_count": 4,
   "metadata": {},
   "outputs": [
    {
     "name": "stdout",
     "output_type": "stream",
     "text": [
      "[{'LonController': 'Context', 'PIDController': 'Strategy', 'PIDBCController': 'ConcreteStrategies'}, {'LonController': 'Context', 'PIDController': 'Strategy', 'PIDICController': 'ConcreteStrategies'}]\n"
     ]
    }
   ],
   "source": [
    "# in ctrl graph\n",
    "import networkx.algorithms.isomorphism as iso\n",
    "nm = iso.categorical_edge_match('type', 'xyz')\n",
    "ctrl_DiGM = iso.DiGraphMatcher(ctrl,pattern,edge_match=nm)\n",
    "#ctrl_DiGM.subgraph_is_isomorphic()\n",
    "ctrl_subgraphs = [graph for graph in ctrl_DiGM.subgraph_isomorphisms_iter()]\n",
    "print (ctrl_subgraphs)"
   ]
  },
  {
   "cell_type": "code",
   "execution_count": 5,
   "metadata": {},
   "outputs": [
    {
     "name": "stdout",
     "output_type": "stream",
     "text": [
      "[{'OpenSpaceInfo': 'Context', 'DiscretizedTrajectory': 'Strategy', 'PublishableTrajectory': 'ConcreteStrategies'}, {'OpenSpaceTrajectoryOptimizer': 'Context', 'DiscretizedTrajectory': 'Strategy', 'PublishableTrajectory': 'ConcreteStrategies'}, {'DpRoadGraphNode': 'Context', 'QuinticPolynomialCurve1d': 'Strategy', 'QuinticSpiralPath': 'ConcreteStrategies'}, {'DpRoadGraphNode': 'Context', 'QuinticPolynomialCurve1d': 'Strategy', 'QuinticSpiralPathWithDerivation': 'ConcreteStrategies'}, {'PathDecision': 'Context', 'IndexedList': 'Strategy', 'ThreadSafeIndexedList': 'ConcreteStrategies'}, {'PathDecision': 'Context', 'IndexedList': 'Strategy', 'IndexedObstacles': 'ConcreteStrategies'}, {'ReferenceLineInfo': 'Context', 'DiscretizedTrajectory': 'Strategy', 'PublishableTrajectory': 'ConcreteStrategies'}]\n"
     ]
    }
   ],
   "source": [
    "# in planning graph\n",
    "import networkx.algorithms.isomorphism as iso\n",
    "nm = iso.categorical_edge_match('type', 'xyz')\n",
    "planning_DiGM = iso.DiGraphMatcher(planning,pattern,edge_match=nm)\n",
    "#planning_DiGM.subgraph_is_isomorphic()\n",
    "planning_subgraphs = [graph for graph in planning_DiGM.subgraph_isomorphisms_iter()]\n",
    "print (planning_subgraphs)"
   ]
  },
  {
   "cell_type": "markdown",
   "metadata": {},
   "source": [
    "### Merge patterns"
   ]
  },
  {
   "cell_type": "code",
   "execution_count": 6,
   "metadata": {},
   "outputs": [],
   "source": [
    "# function definitions\n",
    "def get_key(val,l): \n",
    "    for key, value in l.items(): \n",
    "         if val == value: \n",
    "             return key \n",
    "  \n",
    "    return \"key doesn't exist\"\n",
    "\n",
    "def mergeList(subList,pat):\n",
    "    result=[]\n",
    "    while(len(subList)>0):\n",
    "        res1 = []\n",
    "        res1.append(subList[0])\n",
    "        for j in range(1,len(subList)):\n",
    "            flag = True\n",
    "            for k in pat:\n",
    "                if(get_key(k,subList[0])!=get_key(k,subList[j])):\n",
    "                    flag = False\n",
    "            if(flag==True):\n",
    "                res1.append(subList[j])\n",
    "        result.append(res1)\n",
    "        l3 = [x for x in subList if x not in res1]\n",
    "        subList = l3\n",
    "    return result\n",
    "\n",
    "def merge(disconnected_patterns,fixed):\n",
    "    lst = mergeList(disconnected_patterns,fixed)\n",
    "    return list(map(lambda item: dict(item[0],**item[1]) if len(item)>1 else item[0],lst))"
   ]
  },
  {
   "cell_type": "markdown",
   "metadata": {},
   "source": [
    "### 2. Change this\n",
    "# ↓↓↓   ↓↓↓"
   ]
  },
  {
   "cell_type": "code",
   "execution_count": 7,
   "metadata": {},
   "outputs": [],
   "source": [
    "fixed_parts ={'Context','Strategy'}"
   ]
  },
  {
   "cell_type": "code",
   "execution_count": 8,
   "metadata": {},
   "outputs": [
    {
     "name": "stdout",
     "output_type": "stream",
     "text": [
      "planning :\n",
      "\n",
      "{'OpenSpaceInfo': 'Context', 'DiscretizedTrajectory': 'Strategy', 'PublishableTrajectory': 'ConcreteStrategies'}\n",
      "{'OpenSpaceTrajectoryOptimizer': 'Context', 'DiscretizedTrajectory': 'Strategy', 'PublishableTrajectory': 'ConcreteStrategies'}\n",
      "{'DpRoadGraphNode': 'Context', 'QuinticPolynomialCurve1d': 'Strategy', 'QuinticSpiralPath': 'ConcreteStrategies', 'QuinticSpiralPathWithDerivation': 'ConcreteStrategies'}\n",
      "{'PathDecision': 'Context', 'IndexedList': 'Strategy', 'ThreadSafeIndexedList': 'ConcreteStrategies', 'IndexedObstacles': 'ConcreteStrategies'}\n",
      "{'ReferenceLineInfo': 'Context', 'DiscretizedTrajectory': 'Strategy', 'PublishableTrajectory': 'ConcreteStrategies'}\n",
      "\n",
      "\n",
      "Control :\n",
      "\n",
      "{'LonController': 'Context', 'PIDController': 'Strategy', 'PIDBCController': 'ConcreteStrategies', 'PIDICController': 'ConcreteStrategies'}\n"
     ]
    }
   ],
   "source": [
    "final_planning_subgraphs=merge(planning_subgraphs,fixed_parts)\n",
    "final_ctrl_subgraphs=merge(ctrl_subgraphs,fixed_parts)\n",
    "print('planning :\\n',*final_planning_subgraphs,sep='\\n')\n",
    "print('\\n')\n",
    "print('Control :\\n',*final_ctrl_subgraphs,sep='\\n')"
   ]
  },
  {
   "cell_type": "markdown",
   "metadata": {},
   "source": [
    "### Pruning"
   ]
  },
  {
   "cell_type": "code",
   "execution_count": 9,
   "metadata": {},
   "outputs": [
    {
     "name": "stdout",
     "output_type": "stream",
     "text": [
      "planning :\n",
      "\n",
      "{'DpRoadGraphNode': 'Context', 'QuinticPolynomialCurve1d': 'Strategy', 'QuinticSpiralPath': 'ConcreteStrategies', 'QuinticSpiralPathWithDerivation': 'ConcreteStrategies'}\n",
      "{'PathDecision': 'Context', 'IndexedList': 'Strategy', 'ThreadSafeIndexedList': 'ConcreteStrategies', 'IndexedObstacles': 'ConcreteStrategies'}\n",
      "\n",
      "\n",
      "Control :\n",
      "\n",
      "{'LonController': 'Context', 'PIDController': 'Strategy', 'PIDBCController': 'ConcreteStrategies', 'PIDICController': 'ConcreteStrategies'}\n"
     ]
    }
   ],
   "source": [
    "variable_parts = set(pattern.nodes())-fixed_parts\n",
    "pruned_planning_subgraphs=list(filter(lambda pattern: len(pattern)>=len(fixed_parts)+2*len(variable_parts),final_planning_subgraphs))\n",
    "pruned_ctrl_subgraphs=list(filter(lambda pattern: len(pattern)>=len(fixed_parts)+2*len(variable_parts),final_ctrl_subgraphs))\n",
    "print('planning :\\n',*pruned_planning_subgraphs,sep='\\n')\n",
    "print('\\n')\n",
    "print('Control :\\n',*pruned_ctrl_subgraphs,sep='\\n')"
   ]
  },
  {
   "cell_type": "markdown",
   "metadata": {},
   "source": [
    "### Storage"
   ]
  },
  {
   "cell_type": "code",
   "execution_count": 10,
   "metadata": {},
   "outputs": [],
   "source": [
    "pickle.dump(pruned_planning_subgraphs,open('../Data/Found_patterns/'+pattern_name+'_planning.p','wb'))\n",
    "pickle.dump(pruned_ctrl_subgraphs,open('../Data/Found_patterns/'+pattern_name+'_control.p','wb'))\n",
    "pickle.dump(pattern,open('../Data/design_patterns/'+pattern_name+'.p','wb'))\n",
    "pickle.dump(fixed_parts,open('../Data/design_patterns/'+pattern_name+'_fixed.p','wb'))"
   ]
  }
 ],
 "metadata": {
  "kernelspec": {
   "display_name": "Python 3",
   "language": "python",
   "name": "python3"
  },
  "language_info": {
   "codemirror_mode": {
    "name": "ipython",
    "version": 3
   },
   "file_extension": ".py",
   "mimetype": "text/x-python",
   "name": "python",
   "nbconvert_exporter": "python",
   "pygments_lexer": "ipython3",
   "version": "3.7.6"
  }
 },
 "nbformat": 4,
 "nbformat_minor": 4
}
